{
  "nbformat": 4,
  "nbformat_minor": 0,
  "metadata": {
    "colab": {
      "provenance": [],
      "authorship_tag": "ABX9TyOVXqYNNQ7scaLq59qu+N2F",
      "include_colab_link": true
    },
    "kernelspec": {
      "name": "python3",
      "display_name": "Python 3"
    },
    "language_info": {
      "name": "python"
    }
  },
  "cells": [
    {
      "cell_type": "markdown",
      "metadata": {
        "id": "view-in-github",
        "colab_type": "text"
      },
      "source": [
        "<a href=\"https://colab.research.google.com/github/heykarent/-repositorio2/blob/main/Perceptr%C3%B3n.ipynb\" target=\"_parent\"><img src=\"https://colab.research.google.com/assets/colab-badge.svg\" alt=\"Open In Colab\"/></a>"
      ]
    },
    {
      "cell_type": "markdown",
      "source": [
        "# Perceptrón  OR"
      ],
      "metadata": {
        "id": "enCcHBX74nuQ"
      }
    },
    {
      "cell_type": "code",
      "source": [
        "\n",
        "# Entradas y salidas\n",
        "entradas = [(0,0), (0,1), (1,0), (1,1)]\n",
        "salidas = [0, 1, 1, 1]\n",
        "\n",
        "# Pesos y bias\n",
        "w1, w2 = 1, 1\n",
        "bias = -0.5\n",
        "\n",
        "def perceptron_or(x1, x2):\n",
        "    suma = x1*w1 + x2*w2 + bias\n",
        "    return 1 if suma >= 0 else 0\n",
        "\n",
        "# Prueba\n",
        "print(\"x1 | x2 | salida\")\n",
        "for x1, x2 in entradas:\n",
        "    print(f\" {x1}  |  {x2}  |   {perceptron_or(x1, x2)}\")\n"
      ],
      "metadata": {
        "colab": {
          "base_uri": "https://localhost:8080/"
        },
        "id": "FZ-_Et2y4UX-",
        "outputId": "c9ff2259-9872-4b2f-cd46-488e5d92b81e"
      },
      "execution_count": 1,
      "outputs": [
        {
          "output_type": "stream",
          "name": "stdout",
          "text": [
            "x1 | x2 | salida\n",
            " 0  |  0  |   0\n",
            " 0  |  1  |   1\n",
            " 1  |  0  |   1\n",
            " 1  |  1  |   1\n"
          ]
        }
      ]
    },
    {
      "cell_type": "markdown",
      "source": [
        "\n",
        "se supone que la neurona de activa cuando ambas neuronas estan aportando peso que supera la bias"
      ],
      "metadata": {
        "id": "xWBLyI3X56-t"
      }
    },
    {
      "cell_type": "markdown",
      "source": [
        "# Perceptrón NOT\n"
      ],
      "metadata": {
        "id": "BokSEGzu4hvH"
      }
    },
    {
      "cell_type": "code",
      "source": [
        "\n",
        "# Entradas y salidas esperadas\n",
        "entradas = [0, 1]\n",
        "salidas = [1, 0]\n",
        "\n",
        "# Peso y bias (manuales)\n",
        "w = -1\n",
        "bias = 0.5\n",
        "\n",
        "def perceptron_not(x):\n",
        "    suma = x*w + bias\n",
        "    return 1 if suma >= 0 else 0\n",
        "\n",
        "# Prueba\n",
        "print(\"x | salida\")\n",
        "for x in entradas:\n",
        "    print(f\"{x} |   {perceptron_not(x)}\")\n"
      ],
      "metadata": {
        "colab": {
          "base_uri": "https://localhost:8080/"
        },
        "id": "c_0hAq2e4h56",
        "outputId": "9b5ee263-f64b-47fc-a6e9-ac1fe709d8d5"
      },
      "execution_count": 2,
      "outputs": [
        {
          "output_type": "stream",
          "name": "stdout",
          "text": [
            "x | salida\n",
            "0 |   1\n",
            "1 |   0\n"
          ]
        }
      ]
    },
    {
      "cell_type": "markdown",
      "source": [
        "En el not es inventido si la neurona entra 0, entonces saldria 1. Y viceversa si entra 1 entonces sale 0"
      ],
      "metadata": {
        "id": "Pcr09DS76jx1"
      }
    }
  ]
}