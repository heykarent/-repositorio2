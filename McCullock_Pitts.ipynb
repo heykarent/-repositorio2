{
  "nbformat": 4,
  "nbformat_minor": 0,
  "metadata": {
    "colab": {
      "provenance": [],
      "authorship_tag": "ABX9TyPL6U1UUjp5yYWjHb+/v1XN",
      "include_colab_link": true
    },
    "kernelspec": {
      "name": "python3",
      "display_name": "Python 3"
    },
    "language_info": {
      "name": "python"
    }
  },
  "cells": [
    {
      "cell_type": "markdown",
      "metadata": {
        "id": "view-in-github",
        "colab_type": "text"
      },
      "source": [
        "<a href=\"https://colab.research.google.com/github/heykarent/-repositorio2/blob/main/McCullock_Pitts.ipynb\" target=\"_parent\"><img src=\"https://colab.research.google.com/assets/colab-badge.svg\" alt=\"Open In Colab\"/></a>"
      ]
    },
    {
      "cell_type": "markdown",
      "source": [
        "#Modelo de McCullock-Pitts"
      ],
      "metadata": {
        "id": "XTaWFyWrajH9"
      }
    },
    {
      "cell_type": "markdown",
      "source": [
        "#Ejemplo OR"
      ],
      "metadata": {
        "id": "yZnjuk2ruK94"
      }
    },
    {
      "cell_type": "code",
      "source": [
        "# ===== OR ========\n",
        "\n",
        "entradas = [(0, 0), (0, 1), (1, 0), (1, 1)]\n",
        "\n",
        "# Peso y umbral\n",
        "w1 = 1\n",
        "w2 = 1\n",
        "umbral = 1\n",
        "\n",
        "print(\"x1 | x2 | Salida\")\n",
        "print(\"-----------------\")\n",
        "\n",
        "#Formula\n",
        "for x1, x2 in entradas:\n",
        "    suma = x1 * w1 + x2 * w2\n",
        "    if suma >= umbral:\n",
        "        z = 1\n",
        "    else:\n",
        "        z = 0\n",
        "    print(f\" {x1} |  {x2} |   {z}\")\n"
      ],
      "metadata": {
        "colab": {
          "base_uri": "https://localhost:8080/"
        },
        "id": "CobtR0-9uGI_",
        "outputId": "2683a183-95fe-4df3-a8ca-8012e5abec5b"
      },
      "execution_count": 3,
      "outputs": [
        {
          "output_type": "stream",
          "name": "stdout",
          "text": [
            "x1 | x2 | Salida\n",
            "-----------------\n",
            " 0 |  0 |   0\n",
            " 0 |  1 |   1\n",
            " 1 |  0 |   1\n",
            " 1 |  1 |   1\n"
          ]
        }
      ]
    },
    {
      "cell_type": "markdown",
      "source": [
        "#Ejemplo NOT\n"
      ],
      "metadata": {
        "id": "08yje9Dzua6W"
      }
    },
    {
      "cell_type": "code",
      "source": [
        "# ===== NOT =====\n",
        "\n",
        "entradas = [0, 1]\n",
        "\n",
        "# Peso y umbral\n",
        "w = -1\n",
        "umbral = 0\n",
        "\n",
        "print(\"x | Salida\")\n",
        "print(\"-----------\")\n",
        "\n",
        "#formula\n",
        "for x in entradas:\n",
        "    suma = x * w\n",
        "    if suma >= umbral:\n",
        "        z = 1\n",
        "    else:\n",
        "        z = 0\n",
        "    print(f\" {x} |   {z}\")\n"
      ],
      "metadata": {
        "colab": {
          "base_uri": "https://localhost:8080/"
        },
        "id": "evzJQ295ubDn",
        "outputId": "0b932b72-86eb-4995-c1b4-7c22a2f4eeaf"
      },
      "execution_count": 2,
      "outputs": [
        {
          "output_type": "stream",
          "name": "stdout",
          "text": [
            "\n",
            "Compuerta NOT - Modelo McCulloch-Pitts\n",
            "x | Salida\n",
            "-----------\n",
            " 0 |   1\n",
            " 1 |   0\n"
          ]
        }
      ]
    }
  ]
}